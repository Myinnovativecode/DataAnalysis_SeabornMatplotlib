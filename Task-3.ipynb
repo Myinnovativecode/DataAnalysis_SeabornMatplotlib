{
 "cells": [
  {
   "cell_type": "markdown",
   "id": "dbc58922",
   "metadata": {},
   "source": [
    "# Task-3 :Data Visualization with Matplotlib and Seaborn"
   ]
  },
  {
   "cell_type": "code",
   "execution_count": 1,
   "id": "aa43fb65",
   "metadata": {},
   "outputs": [],
   "source": [
    "import pandas as pd\n",
    "import matplotlib.pyplot as plt\n",
    "import seaborn as sns"
   ]
  },
  {
   "cell_type": "code",
   "execution_count": 2,
   "id": "0828d186",
   "metadata": {},
   "outputs": [],
   "source": [
    "df=pd.read_csv(\"data2.csv\")"
   ]
  },
  {
   "cell_type": "code",
   "execution_count": 3,
   "id": "85efa351",
   "metadata": {},
   "outputs": [
    {
     "data": {
      "text/html": [
       "<div>\n",
       "<style scoped>\n",
       "    .dataframe tbody tr th:only-of-type {\n",
       "        vertical-align: middle;\n",
       "    }\n",
       "\n",
       "    .dataframe tbody tr th {\n",
       "        vertical-align: top;\n",
       "    }\n",
       "\n",
       "    .dataframe thead th {\n",
       "        text-align: right;\n",
       "    }\n",
       "</style>\n",
       "<table border=\"1\" class=\"dataframe\">\n",
       "  <thead>\n",
       "    <tr style=\"text-align: right;\">\n",
       "      <th></th>\n",
       "      <th>Name</th>\n",
       "      <th>Age</th>\n",
       "      <th>Salary</th>\n",
       "      <th>Department</th>\n",
       "      <th>Gender</th>\n",
       "    </tr>\n",
       "  </thead>\n",
       "  <tbody>\n",
       "    <tr>\n",
       "      <th>0</th>\n",
       "      <td>Alice</td>\n",
       "      <td>30</td>\n",
       "      <td>70000</td>\n",
       "      <td>Engineering</td>\n",
       "      <td>Male</td>\n",
       "    </tr>\n",
       "    <tr>\n",
       "      <th>1</th>\n",
       "      <td>Bob</td>\n",
       "      <td>25</td>\n",
       "      <td>50000</td>\n",
       "      <td>Sales</td>\n",
       "      <td>Male</td>\n",
       "    </tr>\n",
       "    <tr>\n",
       "      <th>2</th>\n",
       "      <td>Charlie</td>\n",
       "      <td>35</td>\n",
       "      <td>80000</td>\n",
       "      <td>Engineering</td>\n",
       "      <td>Male</td>\n",
       "    </tr>\n",
       "    <tr>\n",
       "      <th>3</th>\n",
       "      <td>Diana</td>\n",
       "      <td>28</td>\n",
       "      <td>45000</td>\n",
       "      <td>Marketing</td>\n",
       "      <td>Female</td>\n",
       "    </tr>\n",
       "    <tr>\n",
       "      <th>4</th>\n",
       "      <td>Eve</td>\n",
       "      <td>40</td>\n",
       "      <td>100000</td>\n",
       "      <td>Sales</td>\n",
       "      <td>Female</td>\n",
       "    </tr>\n",
       "    <tr>\n",
       "      <th>5</th>\n",
       "      <td>Frank</td>\n",
       "      <td>22</td>\n",
       "      <td>55000</td>\n",
       "      <td>Marketing</td>\n",
       "      <td>Male</td>\n",
       "    </tr>\n",
       "    <tr>\n",
       "      <th>6</th>\n",
       "      <td>Grace</td>\n",
       "      <td>29</td>\n",
       "      <td>75000</td>\n",
       "      <td>Engineering</td>\n",
       "      <td>Female</td>\n",
       "    </tr>\n",
       "    <tr>\n",
       "      <th>7</th>\n",
       "      <td>Henry</td>\n",
       "      <td>33</td>\n",
       "      <td>72000</td>\n",
       "      <td>Sales</td>\n",
       "      <td>Male</td>\n",
       "    </tr>\n",
       "    <tr>\n",
       "      <th>8</th>\n",
       "      <td>Ivy</td>\n",
       "      <td>27</td>\n",
       "      <td>52000</td>\n",
       "      <td>Marketing</td>\n",
       "      <td>Female</td>\n",
       "    </tr>\n",
       "    <tr>\n",
       "      <th>9</th>\n",
       "      <td>Jack</td>\n",
       "      <td>31</td>\n",
       "      <td>95000</td>\n",
       "      <td>Engineering</td>\n",
       "      <td>Male</td>\n",
       "    </tr>\n",
       "  </tbody>\n",
       "</table>\n",
       "</div>"
      ],
      "text/plain": [
       "      Name  Age  Salary   Department  Gender\n",
       "0    Alice   30   70000  Engineering    Male\n",
       "1      Bob   25   50000        Sales    Male\n",
       "2  Charlie   35   80000  Engineering    Male\n",
       "3    Diana   28   45000    Marketing  Female\n",
       "4      Eve   40  100000        Sales  Female\n",
       "5    Frank   22   55000    Marketing    Male\n",
       "6    Grace   29   75000  Engineering  Female\n",
       "7    Henry   33   72000        Sales    Male\n",
       "8      Ivy   27   52000    Marketing  Female\n",
       "9     Jack   31   95000  Engineering    Male"
      ]
     },
     "execution_count": 3,
     "metadata": {},
     "output_type": "execute_result"
    }
   ],
   "source": [
    "df"
   ]
  },
  {
   "cell_type": "code",
   "execution_count": 4,
   "id": "22df53c6",
   "metadata": {},
   "outputs": [],
   "source": [
    "df['Experience']=df['Age'].apply(lambda x : 'senior' if x>=30 else 'junior')"
   ]
  },
  {
   "cell_type": "code",
   "execution_count": 5,
   "id": "a329970b",
   "metadata": {},
   "outputs": [
    {
     "data": {
      "text/html": [
       "<div>\n",
       "<style scoped>\n",
       "    .dataframe tbody tr th:only-of-type {\n",
       "        vertical-align: middle;\n",
       "    }\n",
       "\n",
       "    .dataframe tbody tr th {\n",
       "        vertical-align: top;\n",
       "    }\n",
       "\n",
       "    .dataframe thead th {\n",
       "        text-align: right;\n",
       "    }\n",
       "</style>\n",
       "<table border=\"1\" class=\"dataframe\">\n",
       "  <thead>\n",
       "    <tr style=\"text-align: right;\">\n",
       "      <th></th>\n",
       "      <th>Name</th>\n",
       "      <th>Age</th>\n",
       "      <th>Salary</th>\n",
       "      <th>Department</th>\n",
       "      <th>Gender</th>\n",
       "      <th>Experience</th>\n",
       "    </tr>\n",
       "  </thead>\n",
       "  <tbody>\n",
       "    <tr>\n",
       "      <th>0</th>\n",
       "      <td>Alice</td>\n",
       "      <td>30</td>\n",
       "      <td>70000</td>\n",
       "      <td>Engineering</td>\n",
       "      <td>Male</td>\n",
       "      <td>senior</td>\n",
       "    </tr>\n",
       "    <tr>\n",
       "      <th>1</th>\n",
       "      <td>Bob</td>\n",
       "      <td>25</td>\n",
       "      <td>50000</td>\n",
       "      <td>Sales</td>\n",
       "      <td>Male</td>\n",
       "      <td>junior</td>\n",
       "    </tr>\n",
       "    <tr>\n",
       "      <th>2</th>\n",
       "      <td>Charlie</td>\n",
       "      <td>35</td>\n",
       "      <td>80000</td>\n",
       "      <td>Engineering</td>\n",
       "      <td>Male</td>\n",
       "      <td>senior</td>\n",
       "    </tr>\n",
       "    <tr>\n",
       "      <th>3</th>\n",
       "      <td>Diana</td>\n",
       "      <td>28</td>\n",
       "      <td>45000</td>\n",
       "      <td>Marketing</td>\n",
       "      <td>Female</td>\n",
       "      <td>junior</td>\n",
       "    </tr>\n",
       "    <tr>\n",
       "      <th>4</th>\n",
       "      <td>Eve</td>\n",
       "      <td>40</td>\n",
       "      <td>100000</td>\n",
       "      <td>Sales</td>\n",
       "      <td>Female</td>\n",
       "      <td>senior</td>\n",
       "    </tr>\n",
       "    <tr>\n",
       "      <th>5</th>\n",
       "      <td>Frank</td>\n",
       "      <td>22</td>\n",
       "      <td>55000</td>\n",
       "      <td>Marketing</td>\n",
       "      <td>Male</td>\n",
       "      <td>junior</td>\n",
       "    </tr>\n",
       "    <tr>\n",
       "      <th>6</th>\n",
       "      <td>Grace</td>\n",
       "      <td>29</td>\n",
       "      <td>75000</td>\n",
       "      <td>Engineering</td>\n",
       "      <td>Female</td>\n",
       "      <td>junior</td>\n",
       "    </tr>\n",
       "    <tr>\n",
       "      <th>7</th>\n",
       "      <td>Henry</td>\n",
       "      <td>33</td>\n",
       "      <td>72000</td>\n",
       "      <td>Sales</td>\n",
       "      <td>Male</td>\n",
       "      <td>senior</td>\n",
       "    </tr>\n",
       "    <tr>\n",
       "      <th>8</th>\n",
       "      <td>Ivy</td>\n",
       "      <td>27</td>\n",
       "      <td>52000</td>\n",
       "      <td>Marketing</td>\n",
       "      <td>Female</td>\n",
       "      <td>junior</td>\n",
       "    </tr>\n",
       "    <tr>\n",
       "      <th>9</th>\n",
       "      <td>Jack</td>\n",
       "      <td>31</td>\n",
       "      <td>95000</td>\n",
       "      <td>Engineering</td>\n",
       "      <td>Male</td>\n",
       "      <td>senior</td>\n",
       "    </tr>\n",
       "  </tbody>\n",
       "</table>\n",
       "</div>"
      ],
      "text/plain": [
       "      Name  Age  Salary   Department  Gender Experience\n",
       "0    Alice   30   70000  Engineering    Male     senior\n",
       "1      Bob   25   50000        Sales    Male     junior\n",
       "2  Charlie   35   80000  Engineering    Male     senior\n",
       "3    Diana   28   45000    Marketing  Female     junior\n",
       "4      Eve   40  100000        Sales  Female     senior\n",
       "5    Frank   22   55000    Marketing    Male     junior\n",
       "6    Grace   29   75000  Engineering  Female     junior\n",
       "7    Henry   33   72000        Sales    Male     senior\n",
       "8      Ivy   27   52000    Marketing  Female     junior\n",
       "9     Jack   31   95000  Engineering    Male     senior"
      ]
     },
     "execution_count": 5,
     "metadata": {},
     "output_type": "execute_result"
    }
   ],
   "source": [
    "df"
   ]
  },
  {
   "cell_type": "code",
   "execution_count": 6,
   "id": "b326657d",
   "metadata": {},
   "outputs": [
    {
     "data": {
      "text/html": [
       "<div>\n",
       "<style scoped>\n",
       "    .dataframe tbody tr th:only-of-type {\n",
       "        vertical-align: middle;\n",
       "    }\n",
       "\n",
       "    .dataframe tbody tr th {\n",
       "        vertical-align: top;\n",
       "    }\n",
       "\n",
       "    .dataframe thead th {\n",
       "        text-align: right;\n",
       "    }\n",
       "</style>\n",
       "<table border=\"1\" class=\"dataframe\">\n",
       "  <thead>\n",
       "    <tr style=\"text-align: right;\">\n",
       "      <th></th>\n",
       "      <th>Age</th>\n",
       "      <th>Salary</th>\n",
       "    </tr>\n",
       "  </thead>\n",
       "  <tbody>\n",
       "    <tr>\n",
       "      <th>count</th>\n",
       "      <td>10.000000</td>\n",
       "      <td>10.000000</td>\n",
       "    </tr>\n",
       "    <tr>\n",
       "      <th>mean</th>\n",
       "      <td>30.000000</td>\n",
       "      <td>69400.000000</td>\n",
       "    </tr>\n",
       "    <tr>\n",
       "      <th>std</th>\n",
       "      <td>5.142416</td>\n",
       "      <td>18927.933502</td>\n",
       "    </tr>\n",
       "    <tr>\n",
       "      <th>min</th>\n",
       "      <td>22.000000</td>\n",
       "      <td>45000.000000</td>\n",
       "    </tr>\n",
       "    <tr>\n",
       "      <th>25%</th>\n",
       "      <td>27.250000</td>\n",
       "      <td>52750.000000</td>\n",
       "    </tr>\n",
       "    <tr>\n",
       "      <th>50%</th>\n",
       "      <td>29.500000</td>\n",
       "      <td>71000.000000</td>\n",
       "    </tr>\n",
       "    <tr>\n",
       "      <th>75%</th>\n",
       "      <td>32.500000</td>\n",
       "      <td>78750.000000</td>\n",
       "    </tr>\n",
       "    <tr>\n",
       "      <th>max</th>\n",
       "      <td>40.000000</td>\n",
       "      <td>100000.000000</td>\n",
       "    </tr>\n",
       "  </tbody>\n",
       "</table>\n",
       "</div>"
      ],
      "text/plain": [
       "             Age         Salary\n",
       "count  10.000000      10.000000\n",
       "mean   30.000000   69400.000000\n",
       "std     5.142416   18927.933502\n",
       "min    22.000000   45000.000000\n",
       "25%    27.250000   52750.000000\n",
       "50%    29.500000   71000.000000\n",
       "75%    32.500000   78750.000000\n",
       "max    40.000000  100000.000000"
      ]
     },
     "execution_count": 6,
     "metadata": {},
     "output_type": "execute_result"
    }
   ],
   "source": [
    "df.describe()"
   ]
  },
  {
   "cell_type": "code",
   "execution_count": 7,
   "id": "9350a218",
   "metadata": {},
   "outputs": [],
   "source": [
    "# Average Salary by Department\n",
    "avg_salary_by_dept=df.groupby('Department')['Salary'].mean()"
   ]
  },
  {
   "cell_type": "code",
   "execution_count": 8,
   "id": "e4ae5f8a",
   "metadata": {},
   "outputs": [
    {
     "name": "stdout",
     "output_type": "stream",
     "text": [
      "Average Salary of Each Department :\n",
      " Department\n",
      "Engineering    80000.000000\n",
      "Marketing      50666.666667\n",
      "Sales          74000.000000\n",
      "Name: Salary, dtype: float64\n"
     ]
    }
   ],
   "source": [
    "print(\"Average Salary of Each Department :\\n\",avg_salary_by_dept)"
   ]
  },
  {
   "cell_type": "markdown",
   "id": "957ca4c3",
   "metadata": {},
   "source": [
    "### Data Visualization"
   ]
  },
  {
   "cell_type": "markdown",
   "id": "1d48f7eb",
   "metadata": {},
   "source": [
    "### (i)box plot"
   ]
  },
  {
   "cell_type": "code",
   "execution_count": 15,
   "id": "7dbc815c",
   "metadata": {
    "scrolled": true
   },
   "outputs": [
    {
     "name": "stderr",
     "output_type": "stream",
     "text": [
      "C:\\Users\\akpad\\anaconda3\\Lib\\site-packages\\seaborn\\_oldcore.py:1498: FutureWarning: is_categorical_dtype is deprecated and will be removed in a future version. Use isinstance(dtype, CategoricalDtype) instead\n",
      "  if pd.api.types.is_categorical_dtype(vector):\n",
      "C:\\Users\\akpad\\anaconda3\\Lib\\site-packages\\seaborn\\_oldcore.py:1498: FutureWarning: is_categorical_dtype is deprecated and will be removed in a future version. Use isinstance(dtype, CategoricalDtype) instead\n",
      "  if pd.api.types.is_categorical_dtype(vector):\n",
      "C:\\Users\\akpad\\anaconda3\\Lib\\site-packages\\seaborn\\_oldcore.py:1498: FutureWarning: is_categorical_dtype is deprecated and will be removed in a future version. Use isinstance(dtype, CategoricalDtype) instead\n",
      "  if pd.api.types.is_categorical_dtype(vector):\n",
      "C:\\Users\\akpad\\anaconda3\\Lib\\site-packages\\seaborn\\_oldcore.py:1498: FutureWarning: is_categorical_dtype is deprecated and will be removed in a future version. Use isinstance(dtype, CategoricalDtype) instead\n",
      "  if pd.api.types.is_categorical_dtype(vector):\n"
     ]
    },
    {
     "data": {
      "image/png": "[encoded data removed]",
      "text/plain": [
       "<Figure size 800x600 with 1 Axes>"
      ]
     },
     "metadata": {},
     "output_type": "display_data"
    }
   ],
   "source": [
    "\n",
    "plt.figure(figsize=(8,6))  #This line creates a figure with a specific size. The figsize argument specifies the width and height of the figure in inches. Here, the width is 8 inches, and the height is 5 inches. \n",
    "sns.set_style('darkgrid')\n",
    "sns.set_palette('Set2')\n",
    "sns.boxplot(data=df,x=\"Department\" ,y=\"Salary\",orient=\"v\",hue='Gender')\n",
    "plt.title(\"Salary Distribution by Department\")\n",
    "plt.show()"
   ]
  },
  {
   "cell_type": "markdown",
   "id": "7e2ce664",
   "metadata": {},
   "source": [
    "### conclusion "
   ]
  },
  {
   "cell_type": "markdown",
   "id": "244a1ed7",
   "metadata": {},
   "source": [
    "#### Departmental Salary Ranges:\n",
    "\n",
    "    1.Engineering: The median salary for engineers is around 80,000. The range of salaries is quite wide, with the lowest salary being around 70,000 and the highest being around 100,000. There are a few outliers with salaries exceeding 100,000.\n",
    "    \n",
    "    2.Sales: The median salary for sales professionals is around 65,000. The range of salaries is narrower compared to engineering, with the lowest salary being around 50,000 and the highest being around 70,000.\n",
    "    \n",
    "    3.Marketing: The median salary for marketing professionals is around 50,000. The range of salaries is the narrowest among the three departments, with the lowest salary being around 50,000 and the highest being around 55,000."
   ]
  },
  {
   "cell_type": "markdown",
   "id": "40314a91",
   "metadata": {},
   "source": [
    "### (ii) Bar Plots"
   ]
  },
  {
   "cell_type": "code",
   "execution_count": 24,
   "id": "01bb6816",
   "metadata": {},
   "outputs": [
    {
     "name": "stderr",
     "output_type": "stream",
     "text": [
      "C:\\Users\\akpad\\anaconda3\\Lib\\site-packages\\seaborn\\_oldcore.py:1498: FutureWarning: is_categorical_dtype is deprecated and will be removed in a future version. Use isinstance(dtype, CategoricalDtype) instead\n",
      "  if pd.api.types.is_categorical_dtype(vector):\n",
      "C:\\Users\\akpad\\anaconda3\\Lib\\site-packages\\seaborn\\_oldcore.py:1498: FutureWarning: is_categorical_dtype is deprecated and will be removed in a future version. Use isinstance(dtype, CategoricalDtype) instead\n",
      "  if pd.api.types.is_categorical_dtype(vector):\n",
      "C:\\Users\\akpad\\anaconda3\\Lib\\site-packages\\seaborn\\_oldcore.py:1498: FutureWarning: is_categorical_dtype is deprecated and will be removed in a future version. Use isinstance(dtype, CategoricalDtype) instead\n",
      "  if pd.api.types.is_categorical_dtype(vector):\n"
     ]
    },
    {
     "data": {
      "image/png": "[encoded data removed]",
      "text/plain": [
       "<Figure size 600x400 with 1 Axes>"
      ]
     },
     "metadata": {},
     "output_type": "display_data"
    }
   ],
   "source": [
    "\n",
    "plt.figure(figsize=(6,4))\n",
    "sns.barplot(data=df,x=\"Experience\" ,y=\"Salary\")\n",
    "plt.title(\"Salary Distribution by Experience\")\n",
    "plt.show()"
   ]
  },
  {
   "cell_type": "markdown",
   "id": "e544eeb1",
   "metadata": {},
   "source": [
    "#### Observations:\n",
    "       1.Experience and Salary: The plot suggests a positive correlation between experience and salary, with senior positions generally commanding higher salaries than junior positions.\n",
    "       \n",
    "       2.Senior Salaries: The average salary for senior positions appears to be around 80,000. The range of salaries is also wider, with the highest salary exceeding 90,000.\n",
    "\n",
    "       3.Junior Salaries: The average salary for junior positions appears to be around 55,000. The range of salaries is narrower compared to senior positions.     "
   ]
  },
  {
   "cell_type": "markdown",
   "id": "f94a4c9a",
   "metadata": {},
   "source": [
    "### (iii)Scatter plot of Age vs Salary"
   ]
  },
  {
   "cell_type": "code",
   "execution_count": 23,
   "id": "67fe4048",
   "metadata": {},
   "outputs": [
    {
     "name": "stderr",
     "output_type": "stream",
     "text": [
      "C:\\Users\\akpad\\anaconda3\\Lib\\site-packages\\seaborn\\_oldcore.py:1498: FutureWarning: is_categorical_dtype is deprecated and will be removed in a future version. Use isinstance(dtype, CategoricalDtype) instead\n",
      "  if pd.api.types.is_categorical_dtype(vector):\n",
      "C:\\Users\\akpad\\anaconda3\\Lib\\site-packages\\seaborn\\_oldcore.py:1498: FutureWarning: is_categorical_dtype is deprecated and will be removed in a future version. Use isinstance(dtype, CategoricalDtype) instead\n",
      "  if pd.api.types.is_categorical_dtype(vector):\n",
      "C:\\Users\\akpad\\anaconda3\\Lib\\site-packages\\seaborn\\_oldcore.py:1498: FutureWarning: is_categorical_dtype is deprecated and will be removed in a future version. Use isinstance(dtype, CategoricalDtype) instead\n",
      "  if pd.api.types.is_categorical_dtype(vector):\n",
      "C:\\Users\\akpad\\anaconda3\\Lib\\site-packages\\seaborn\\_oldcore.py:1498: FutureWarning: is_categorical_dtype is deprecated and will be removed in a future version. Use isinstance(dtype, CategoricalDtype) instead\n",
      "  if pd.api.types.is_categorical_dtype(vector):\n",
      "C:\\Users\\akpad\\anaconda3\\Lib\\site-packages\\seaborn\\_oldcore.py:1498: FutureWarning: is_categorical_dtype is deprecated and will be removed in a future version. Use isinstance(dtype, CategoricalDtype) instead\n",
      "  if pd.api.types.is_categorical_dtype(vector):\n"
     ]
    },
    {
     "data": {
      "image/png": "[encoded data removed]",
      "text/plain": [
       "<Figure size 800x500 with 1 Axes>"
      ]
     },
     "metadata": {},
     "output_type": "display_data"
    }
   ],
   "source": [
    "\n",
    "plt.figure(figsize=(8,5))\n",
    "sns.scatterplot(x=\"Salary\",y=\"Age\",data=df,hue=\"Gender\")\n",
    "plt.xlabel(\"Salary of Employees\")\n",
    "plt.title(\"Age vs Salary\")\n",
    "plt.show()"
   ]
  },
  {
   "cell_type": "markdown",
   "id": "dc7277d6",
   "metadata": {},
   "source": [
    "#### Observations:\n",
    "    1.Positive Corelation - There seems to be a positive correlation between age and salary ,meaning that generally, as age(contrast in Experience) increases, salary also tends to increase.\n",
    "    2.Outliers - There are a few outliers, especially for males, with salaries above 90,000.\n",
    "    3.Salary Range: The salary range covered in the plot is between 45,000 and 100,000.\n",
    "    4.Age Range: The age range of individuals in the dataset appears to be between 22 and 40 years old.\n",
    "\n"
   ]
  },
  {
   "cell_type": "markdown",
   "id": "b52dc96f",
   "metadata": {},
   "source": [
    "### Heatmap: Correlation matrix between Age & Salary"
   ]
  },
  {
   "cell_type": "code",
   "execution_count": 28,
   "id": "1c913a91",
   "metadata": {},
   "outputs": [
    {
     "data": {
      "image/png": "[encoded data removed]",
      "text/plain": [
       "<Figure size 640x480 with 2 Axes>"
      ]
     },
     "metadata": {},
     "output_type": "display_data"
    }
   ],
   "source": [
    "# calculate the correlation matrix for the Age and Salary columns, which measures how closely related the two variables are.\n",
    "corr_matrix = df[[\"Age\",\"Salary\"]].corr()\n",
    "sns.heatmap(corr_matrix ,annot=True ,fmt='.2f' ,cmap=\"coolwarm\")\n",
    "plt.title(\"Correlation Matrix\")\n",
    "plt.show()\n",
    "\n"
   ]
  },
  {
   "cell_type": "markdown",
   "id": "076dd6a6",
   "metadata": {},
   "source": [
    "#### Observations :\n",
    "     1.Strong Positive Correlation: The correlation coefficient of 0.80 between \"Age\" and \"Salary\" suggests a strong positive linear relationship. This means that as age increases, salary also tends to increase.\n",
    "     \n",
    "     2.Diagonal Elements: The diagonal elements (1.00) represent the correlation of a variable with itself, which is always 1.\n",
    "     \n",
    "     3.Color Intensity: The color intensity in the heatmap reflects the strength of the correlation. Deeper shades of red indicate a stronger positive correlation."
   ]
  },
  {
   "cell_type": "code",
   "execution_count": null,
   "id": "df2d6aa6",
   "metadata": {},
   "outputs": [],
   "source": []
  }
 ],
 "metadata": {
  "kernelspec": {
   "display_name": "Python 3 (ipykernel)",
   "language": "python",
   "name": "python3"
  },
  "language_info": {
   "codemirror_mode": {
    "name": "ipython",
    "version": 3
   },
   "file_extension": ".py",
   "mimetype": "text/x-python",
   "name": "python",
   "nbconvert_exporter": "python",
   "pygments_lexer": "ipython3",
   "version": "3.11.5"
  }
 },
 "nbformat": 4,
 "nbformat_minor": 5
}
